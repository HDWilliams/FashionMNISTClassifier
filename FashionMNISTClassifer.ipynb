{
  "nbformat": 4,
  "nbformat_minor": 0,
  "metadata": {
    "colab": {
      "name": "FashionMNISTClassifer.ipynb",
      "version": "0.3.2",
      "provenance": [],
      "collapsed_sections": [],
      "include_colab_link": true
    },
    "kernelspec": {
      "name": "python3",
      "display_name": "Python 3"
    },
    "accelerator": "GPU"
  },
  "cells": [
    {
      "cell_type": "markdown",
      "metadata": {
        "id": "view-in-github",
        "colab_type": "text"
      },
      "source": [
        "<a href=\"https://colab.research.google.com/github/HDWilliams/FashionMNISTClassifier/blob/master/FashionMNISTClassifer.ipynb\" target=\"_parent\"><img src=\"https://colab.research.google.com/assets/colab-badge.svg\" alt=\"Open In Colab\"/></a>"
      ]
    },
    {
      "cell_type": "code",
      "metadata": {
        "id": "rFklNs1ja-RO",
        "colab_type": "code",
        "colab": {}
      },
      "source": [
        "#needed if running on local machine. This project was made using Colab which does not require this step\n",
        "#!pip install torch torchvision\n"
      ],
      "execution_count": 0,
      "outputs": []
    },
    {
      "cell_type": "code",
      "metadata": {
        "id": "8zTX2iwqbX4i",
        "colab_type": "code",
        "colab": {}
      },
      "source": [
        "#import relevant dependancies\n",
        "import torch\n",
        "import torchvision\n",
        "import matplotlib.pyplot as plt\n",
        "import numpy as np\n",
        "\n",
        "from torchvision import datasets, transforms\n",
        "\n",
        "#set up transform for a black and white image i.e. size = [1, #, #]\n",
        "transform = transforms.Compose([transforms.ToTensor(),\n",
        "                                transforms.Normalize((0.5,), (0.5,))])\n",
        "\n",
        "#set up trainset and trainloader and apply transform, do same for testset and testloader\n",
        "trainset = datasets.FashionMNIST('~/.pytorch/F_MNIST_data/', download=True, train=True, transform=transform)\n",
        "trainloader = torch.utils.data.DataLoader(trainset, batch_size=64, shuffle=True)\n",
        "\n",
        "testset = datasets.FashionMNIST('~/.pytorch/F_MNIST_data/', download=True, train=False, transform=transform)\n",
        "testloader = torch.utils.data.DataLoader(testset, batch_size=64, shuffle=True)\n"
      ],
      "execution_count": 0,
      "outputs": []
    },
    {
      "cell_type": "code",
      "metadata": {
        "id": "0_jLAwBvejB4",
        "colab_type": "code",
        "colab": {}
      },
      "source": [
        "#Set up Neural Network\n",
        "import torch.nn as nn\n",
        "import torch.nn.functional as F\n",
        "\n",
        "class FashionClassifier(nn.Module):\n",
        "  #envoke __init__ method of parent class\n",
        "  def __init__(self):\n",
        "    super().__init__()\n",
        "    \n",
        "    #define layers of network, 2 hidden layers and one output layer. All layers are linear\n",
        "    #input of the next layer will be equal to the output of the previous layer as all layers are fully connected\n",
        "    #output layer must have same number of nodes as classes in the dataset\n",
        "    \n",
        "    inp = 784 # 28 X 28 image\n",
        "    hid1 = 128 \n",
        "    hid2 = 64\n",
        "    out = 10 # 10 classes of clothing\n",
        "    self.layer1 = nn.Linear(inp, hid1)\n",
        "    self.layer2 = nn.Linear(hid1, hid2)\n",
        "    self.outputLayer = nn.Linear(hid2, out)\n",
        "  \n",
        "  def forward(self, x):\n",
        "    x = F.relu(self.layer1(x))\n",
        "    x = F.relu(self.layer2(x))\n",
        "    \n",
        "    log_softmax = nn.LogSoftmax(dim=1)\n",
        "    output = log_softmax(self.outputLayer(x))\n",
        "    return output\n",
        "\n",
        "model = FashionClassifier()\n"
      ],
      "execution_count": 0,
      "outputs": []
    },
    {
      "cell_type": "code",
      "metadata": {
        "id": "w-362hwthpwK",
        "colab_type": "code",
        "colab": {}
      },
      "source": [
        "#set up optimizer for SGD and criterion for loss function\n",
        "#loss function will be Negative Log Likelihood for multiclass classification \n",
        "\n",
        "#learning rate = lr\n",
        "lr = .01\n",
        "\n",
        "criterion = nn.NLLLoss()\n",
        "optimizer = torch.optim.SGD(model.parameters(), lr=lr)"
      ],
      "execution_count": 0,
      "outputs": []
    },
    {
      "cell_type": "code",
      "metadata": {
        "id": "p6Y-MBODkecZ",
        "colab_type": "code",
        "colab": {}
      },
      "source": [
        "#train the model\n",
        "epochs = 5\n",
        "loss_by_epoch = []\n",
        "for epoch in range(epochs):\n",
        "  running_loss = 0\n",
        "  for images, labels in trainloader:\n",
        "    #reshape images into expected 2D\n",
        "    images = images.view(images.shape[0], -1)\n",
        "    optimizer.zero_grad()\n",
        "    \n",
        "    \n",
        "    output = model(images)\n",
        "    loss = criterion(output, labels)\n",
        "    \n",
        "    #calculate gradients and backpropagate \n",
        "    loss.backward()\n",
        "    \n",
        "    #take step using SGD\n",
        "    optimizer.step()\n",
        "    \n",
        "    running_loss += loss.item()\n",
        "  #print loss every epoch\n",
        "  loss_by_epoch.append(running_loss)\n",
        "  print ('Loss: ', running_loss / len(trainloader))\n",
        "print(loss_by_epoch)\n",
        "    \n",
        "    \n",
        "    \n",
        "  "
      ],
      "execution_count": 0,
      "outputs": []
    },
    {
      "cell_type": "code",
      "metadata": {
        "id": "khLlQilZAK3B",
        "colab_type": "code",
        "colab": {}
      },
      "source": [
        "#test Network\n",
        "\n",
        "#Visualization help functions from GitHub: https://github.com/iArunava/Intro-to-Deep-Learning-with-Pytorch-Udacity-Solutions/blob/master/intro-to-pytorch/Part%204%20-%20Fashion-MNIST.ipynb\n",
        "def view_classify(img, ps, version=\"MNIST\"):\n",
        "    ''' Function for viewing an image and it's predicted classes.\n",
        "    '''\n",
        "    ps = ps.data.numpy().squeeze()\n",
        "\n",
        "    fig, (ax1, ax2) = plt.subplots(figsize=(6,9), ncols=2)\n",
        "    ax1.imshow(img.resize_(1, 28, 28).numpy().squeeze())\n",
        "    ax1.axis('off')\n",
        "    ax2.barh(np.arange(10), ps)\n",
        "    ax2.set_aspect(0.1)\n",
        "    ax2.set_yticks(np.arange(10))\n",
        "    if version == \"MNIST\":\n",
        "        ax2.set_yticklabels(np.arange(10))\n",
        "    elif version == \"Fashion\":\n",
        "        ax2.set_yticklabels(['T-shirt/top',\n",
        "                            'Trouser',\n",
        "                            'Pullover',\n",
        "                            'Dress',\n",
        "                            'Coat',\n",
        "                            'Sandal',\n",
        "                            'Shirt',\n",
        "                            'Sneaker',\n",
        "                            'Bag',\n",
        "                            'Ankle Boot'], size='small');\n",
        "    ax2.set_title('Class Probability')\n",
        "    ax2.set_xlim(0, 1.1)\n",
        "\n",
        "    plt.tight_layout()\n",
        "    \n",
        "\n",
        "def imshow(image, ax=None, title=None, normalize=True):\n",
        "    \"\"\"Imshow for Tensor.\"\"\"\n",
        "    if ax is None:\n",
        "        fig, ax = plt.subplots()\n",
        "    image = image.numpy().transpose((1, 2, 0))\n",
        "\n",
        "    if normalize:\n",
        "        mean = np.array([0.485, 0.456, 0.406])\n",
        "        std = np.array([0.229, 0.224, 0.225])\n",
        "        image = std * image + mean\n",
        "        image = np.clip(image, 0, 1)\n",
        "\n",
        "    ax.imshow(image)\n",
        "    ax.spines['top'].set_visible(False)\n",
        "    ax.spines['right'].set_visible(False)\n",
        "    ax.spines['left'].set_visible(False)\n",
        "    ax.spines['bottom'].set_visible(False)\n",
        "    ax.tick_params(axis='both', length=0)\n",
        "    ax.set_xticklabels('')\n",
        "    ax.set_yticklabels('')\n",
        "\n",
        "    return ax\n",
        "\n",
        "### end of visulaization helper functions\n",
        "\n",
        "def viewNumImg(numImgs):\n",
        "  data = iter(testloader)\n",
        "  images, labels = data.next()\n",
        "\n",
        "  for img in images[0:numImgs]:\n",
        "    # Convert 2D image to 1D vector\n",
        "    img = img.view(1, -1)\n",
        "\n",
        "    # TODO: Calculate the class probabilities (softmax) for img\n",
        "    ps = torch.exp(model(img))\n",
        "    print (ps)\n",
        "\n",
        "    # Plot the image and probabilities\n",
        "    #helper.view_classify(img.resize_(1, 28, 28), ps, version='Fashion')\n",
        "    view_classify(img.resize_(1, 28, 28), ps, version='Fashion')\n",
        "\n",
        "viewNumImg(3)"
      ],
      "execution_count": 0,
      "outputs": []
    }
  ]
}